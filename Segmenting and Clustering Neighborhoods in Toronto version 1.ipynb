
In [1]:
#importing Libraries
import requests
import lxml.html as lh
import bs4 as bs
import urllib.request
import numpy as np 
import pandas as pd
In [2]:
#Getting the data from url
url = "https://en.wikipedia.org/wiki/List_of_postal_codes_of_Canada:_M"
res = requests.get(url)
soup = bs.BeautifulSoup(res.content,'lxml')
table = soup.find_all('table')[0]
df = pd.read_html(str(table))
data = pd.read_json(df[0].to_json(orient='records'))
In [3]:
#First 5 records
data.head()
Out[3]:
Borough	Neighbourhood	Postcode
0	Not assigned	Not assigned	M1A
1	Not assigned	Not assigned	M2A
2	North York	Parkwoods	M3A
3	North York	Victoria Village	M4A
4	Downtown Toronto	Harbourfront	M5A
In [4]:
#Choosing only data where field Borough doesn't have not assigned value
raw_data_selected = data[data['Borough'] != 'Not assigned']
In [5]:
#Grouping Data
raw_data_selected = raw_data_selected.groupby(['Borough', 'Postcode'], as_index=False).agg(','.join)
In [6]:
raw_data_selected.head()
Out[6]:
Borough	Postcode	Neighbourhood
0	Central Toronto	M4N	Lawrence Park
1	Central Toronto	M4P	Davisville North
2	Central Toronto	M4R	North Toronto West
3	Central Toronto	M4S	Davisville
4	Central Toronto	M4T	Moore Park,Summerhill East
In [7]:
#Replacing values in Neighbourhood field with Borough where Neighbourhood is not assigned
raw_data_selected['Neighbourhood'] = np.where(raw_data_selected['Neighbourhood'] == 'Not assigned', raw_data_selected['Borough'], raw_data_selected['Neighbourhood'])
In [8]:
#Shape of Data
raw_data_selected.shape
Out[8]:
(103, 3)
In [ ]:
